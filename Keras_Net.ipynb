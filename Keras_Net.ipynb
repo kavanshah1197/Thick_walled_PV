{
 "metadata": {
  "language_info": {
   "codemirror_mode": {
    "name": "ipython",
    "version": 3
   },
   "file_extension": ".py",
   "mimetype": "text/x-python",
   "name": "python",
   "nbconvert_exporter": "python",
   "pygments_lexer": "ipython3",
   "version": "3.8.3-final"
  },
  "orig_nbformat": 2,
  "kernelspec": {
   "name": "python_defaultSpec_1596130413792",
   "display_name": "Python 3.8.3 64-bit"
  }
 },
 "nbformat": 4,
 "nbformat_minor": 2,
 "cells": [
  {
   "cell_type": "code",
   "execution_count": 23,
   "metadata": {},
   "outputs": [],
   "source": [
    "import pandas as pd\n",
    "import numpy as np\n",
    "import math\n",
    "import tensorflow as tf\n",
    "from tensorflow.keras.models import Sequential\n",
    "from tensorflow.keras.layers import Dense\n",
    "import matplotlib.pyplot as plt\n",
    "import seaborn as sns\n",
    "sns.set()"
   ]
  },
  {
   "cell_type": "code",
   "execution_count": 76,
   "metadata": {},
   "outputs": [],
   "source": [
    "PV_data = pd.read_csv('PV_data.csv', header=None).to_numpy()\n",
    "input_data = PV_data[0:4, :]\n",
    "output_data = PV_data[4:5, :]\n",
    "input_obs = input_data.shape[1]\n",
    "np.random.seed(42)\n",
    "random_seq = np.random.permutation(input_obs)\n",
    "training_data_input = input_data[:,random_seq[0:math.floor(0.75*input_obs)]]\n",
    "training_data_input_mean = np.mean(training_data_input, axis = 1, keepdims=True)\n",
    "training_data_input_std = np.std(training_data_input, axis = 1, keepdims=True)\n",
    "training_data_input = (training_data_input-training_data_input_mean)/training_data_input_std\n",
    "training_data_output = output_data[:,random_seq[0:math.floor(0.75*input_obs)]]\n",
    "dev_data_input = input_data[:,random_seq[math.floor(0.75*input_obs):]]\n",
    "dev_data_input = (dev_data_input-training_data_input_mean)/training_data_input_std\n",
    "dev_data_output = output_data[:,random_seq[math.floor(0.75*input_obs):]]\n"
   ]
  },
  {
   "cell_type": "code",
   "execution_count": 30,
   "metadata": {},
   "outputs": [],
   "source": [
    "stress_pred_model = Sequential()\n",
    "stress_pred_model.add(Dense(32, input_shape=(4,), activation='relu'))\n",
    "stress_pred_model.add(Dense(1))"
   ]
  },
  {
   "cell_type": "code",
   "execution_count": 31,
   "metadata": {
    "tags": []
   },
   "outputs": [
    {
     "output_type": "stream",
     "name": "stdout",
     "text": "Model: \"sequential_2\"\n_________________________________________________________________\nLayer (type)                 Output Shape              Param #   \n=================================================================\ndense_4 (Dense)              (None, 32)                160       \n_________________________________________________________________\ndense_5 (Dense)              (None, 1)                 33        \n=================================================================\nTotal params: 193\nTrainable params: 193\nNon-trainable params: 0\n_________________________________________________________________\n"
    }
   ],
   "source": [
    "stress_pred_model.summary()"
   ]
  },
  {
   "cell_type": "code",
   "execution_count": 86,
   "metadata": {},
   "outputs": [],
   "source": [
    "opt = tf.keras.optimizers.Adam(learning_rate=0.05)\n",
    "stress_pred_model.compile(optimizer=opt, loss=tf.keras.losses.MeanSquaredError())"
   ]
  },
  {
   "cell_type": "code",
   "execution_count": 81,
   "metadata": {},
   "outputs": [],
   "source": [
    "hist_obj = stress_pred_model.fit(training_data_input.T, training_data_output.T, epochs=5000, verbose=0)"
   ]
  }
 ]
}